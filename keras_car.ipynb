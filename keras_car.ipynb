{
 "cells": [
  {
   "cell_type": "code",
   "execution_count": 1,
   "metadata": {},
   "outputs": [
    {
     "name": "stderr",
     "output_type": "stream",
     "text": [
      "Using TensorFlow backend.\n"
     ]
    },
    {
     "name": "stdout",
     "output_type": "stream",
     "text": [
      "Epoch 1/10\n",
      "596/595 [==============================] - 197s - loss: 0.0387 - val_loss: 0.0237\n",
      "Epoch 2/10\n",
      "596/595 [==============================] - 143s - loss: 0.0312 - val_loss: 0.0221\n",
      "Epoch 3/10\n",
      "596/595 [==============================] - 144s - loss: 0.0290 - val_loss: 0.0243\n",
      "Epoch 4/10\n",
      "596/595 [==============================] - 243s - loss: 0.0278 - val_loss: 0.0231\n",
      "Epoch 5/10\n",
      "596/595 [==============================] - 160s - loss: 0.0265 - val_loss: 0.0200\n",
      "Epoch 6/10\n",
      "596/595 [==============================] - 143s - loss: 0.0258 - val_loss: 0.0218\n",
      "Epoch 7/10\n",
      "596/595 [==============================] - 146s - loss: 0.0251 - val_loss: 0.0180\n",
      "Epoch 8/10\n",
      "596/595 [==============================] - 146s - loss: 0.0245 - val_loss: 0.0189\n",
      "Epoch 9/10\n",
      "596/595 [==============================] - 147s - loss: 0.0238 - val_loss: 0.0192\n",
      "Epoch 10/10\n",
      "596/595 [==============================] - 146s - loss: 0.0232 - val_loss: 0.0178\n",
      "dict_keys(['loss', 'val_loss'])\n"
     ]
    },
    {
     "data": {
      "image/png": "[encoded data removed]",
      "text/plain": [
       "<matplotlib.figure.Figure at 0x175eacbbe80>"
      ]
     },
     "metadata": {},
     "output_type": "display_data"
    }
   ],
   "source": [
    "#using Keras 2!\n",
    "import numpy as np\n",
    "import os\n",
    "import csv\n",
    "import cv2\n",
    "import sklearn\n",
    "from sklearn.model_selection import train_test_split\n",
    "from keras.models import Sequential, Model\n",
    "from keras.layers import Cropping2D, Lambda, Flatten, Dense, Dropout\n",
    "from keras.layers.convolutional import Conv2D\n",
    "import matplotlib.pyplot as plt\n",
    "import h5py\n",
    "\n",
    "top_path = 'H:/udacity/p3data/datanew/'\n",
    "\n",
    "samples = []\n",
    "with open(top_path + 'driving_log.csv') as csvfile:\n",
    "    reader = csv.reader(csvfile)\n",
    "    for line in reader:\n",
    "        samples.append(line)\n",
    "\n",
    "\n",
    "train_samples, validation_samples = train_test_split(samples, test_size=0.3)\n",
    "\n",
    "\n",
    "def generator(samples, batch_size):\n",
    "    num_samples = len(samples)\n",
    "    while 1: # Loop forever so the generator never terminates\n",
    "        sklearn.utils.shuffle(samples)\n",
    "        for offset in range(0, num_samples, batch_size):\n",
    "            batch_samples = samples[offset:offset+batch_size]\n",
    "\n",
    "            images = []\n",
    "            angles = []\n",
    "            for batch_sample in batch_samples:\n",
    "                name_center = batch_sample[0].split('/')[-1]\n",
    "                name_left = batch_sample[1].split('/')[-1]\n",
    "                name_right = batch_sample[2].split('/')[-1]                \n",
    "                center_image = cv2.imread(name_center)\n",
    "                left_image = cv2.imread(name_left)\n",
    "                right_image = cv2.imread(name_right)\n",
    "                \n",
    "                \n",
    "                center_angle = float(batch_sample[3])\n",
    "                # create adjusted steering measurements for the side camera images\n",
    "                correction = 0.1 # this is a parameter to tune\n",
    "                left_angle = center_angle + correction\n",
    "                right_angle = center_angle - correction\n",
    "                        \n",
    "                #flip all images and angles\n",
    "                center_image_f = np.fliplr(center_image)\n",
    "                center_angle_f = -center_angle\n",
    "                left_image_f = np.fliplr(left_image)\n",
    "                left_angle_f = -left_angle\n",
    "                right_image_f = np.fliplr(right_image)\n",
    "                right_angle_f = -right_angle\n",
    "                \n",
    "                # add images and angles to data set\n",
    "                images.extend([center_image, left_image, right_image, center_image_f, left_image_f, right_image_f])\n",
    "                angles.extend([center_angle, left_angle, right_angle, center_angle_f, left_angle_f, right_angle_f])\n",
    "            X_train = np.array(images)\n",
    "            y_train = np.array(angles)\n",
    "            yield sklearn.utils.shuffle(X_train, y_train)\n",
    "\n",
    "# compile and train the model using the generator function\n",
    "bs = 32\n",
    "train_generator = generator(train_samples, batch_size=bs)\n",
    "validation_generator = generator(validation_samples, batch_size=bs)\n",
    "\n",
    "ch, row, col = 3, 80, 320  # Trimmed image format\n",
    "\n",
    "#Nvidia architecture plus some preprocessing\n",
    "model = Sequential()\n",
    "model.add(Lambda(lambda x: x/255.0 - 0.5, input_shape=(160, 320, ch) ))\n",
    "model.add(Dropout(0.2))\n",
    "model.add(Cropping2D(cropping=((60,20), (0,0))))\n",
    "model.add(Conv2D(24, (5, 5), strides=(2, 2), activation=\"relu\"))\n",
    "model.add(Conv2D(36, (5, 5), strides=(2, 2), activation=\"relu\"))\n",
    "model.add(Conv2D(48, (5, 5), strides=(2, 2), activation=\"relu\"))\n",
    "model.add(Conv2D(64, (3, 3), strides=(2, 2), activation=\"relu\"))\n",
    "model.add(Conv2D(64, (3, 3), strides=(2, 2), activation=\"relu\"))\n",
    "model.add(Flatten())\n",
    "model.add(Dense(100))\n",
    "model.add(Dropout(0.5))\n",
    "model.add(Dense(50))\n",
    "model.add(Dropout(0.5))\n",
    "model.add(Dense(10))\n",
    "model.add(Dropout(0.5))\n",
    "model.add(Dense(1))\n",
    "\n",
    "model.compile(loss='mse', optimizer='adam')\n",
    "\n",
    "history_object = model.fit_generator(train_generator, \n",
    "            steps_per_epoch= len(train_samples)/bs, validation_data=validation_generator, \n",
    "            validation_steps=len(validation_samples)/bs, epochs=10)\n",
    "\n",
    "\n",
    "model.save('modelb32a.h5')\n",
    "### print the keys contained in the history object\n",
    "print(history_object.history.keys())\n",
    "\n",
    "### plot the training and validation loss for each epoch\n",
    "plt.plot(history_object.history['loss'])\n",
    "plt.plot(history_object.history['val_loss'])\n",
    "plt.title('model mean squared error loss')\n",
    "plt.ylabel('mean squared error loss')\n",
    "plt.xlabel('epoch')\n",
    "plt.legend(['training set', 'validation set'], loc='upper right')\n",
    "plt.show()"
   ]
  },
  {
   "cell_type": "code",
   "execution_count": null,
   "metadata": {
    "collapsed": true
   },
   "outputs": [],
   "source": [
    "#0.0178"
   ]
  }
 ],
 "metadata": {
  "kernelspec": {
   "display_name": "tensorpy36",
   "language": "python",
   "name": "tensorpy36"
  },
  "language_info": {
   "codemirror_mode": {
    "name": "ipython",
    "version": 3
   },
   "file_extension": ".py",
   "mimetype": "text/x-python",
   "name": "python",
   "nbconvert_exporter": "python",
   "pygments_lexer": "ipython3",
   "version": "3.5.3"
  }
 },
 "nbformat": 4,
 "nbformat_minor": 2
}
